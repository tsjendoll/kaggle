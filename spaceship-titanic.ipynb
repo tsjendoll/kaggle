{
 "cells": [
  {
   "cell_type": "code",
   "execution_count": 1,
   "id": "1f351f38",
   "metadata": {
    "_cell_guid": "b1076dfc-b9ad-4769-8c92-a6c4dae69d19",
    "_uuid": "8f2839f25d086af736a60e9eeb907d3b93b6e0e5",
    "execution": {
     "iopub.execute_input": "2024-04-06T02:16:16.874954Z",
     "iopub.status.busy": "2024-04-06T02:16:16.874335Z",
     "iopub.status.idle": "2024-04-06T02:16:17.623886Z",
     "shell.execute_reply": "2024-04-06T02:16:17.622063Z"
    },
    "papermill": {
     "duration": 0.759749,
     "end_time": "2024-04-06T02:16:17.625971",
     "exception": false,
     "start_time": "2024-04-06T02:16:16.866222",
     "status": "completed"
    },
    "tags": []
   },
   "outputs": [
    {
     "name": "stdout",
     "output_type": "stream",
     "text": [
      "/kaggle/input/spaceship-titanic/sample_submission.csv\n",
      "/kaggle/input/spaceship-titanic/train.csv\n",
      "/kaggle/input/spaceship-titanic/test.csv\n"
     ]
    }
   ],
   "source": [
    "# This Python 3 environment comes with many helpful analytics libraries installed\n",
    "# It is defined by the kaggle/python Docker image: https://github.com/kaggle/docker-python\n",
    "# For example, here's several helpful packages to load\n",
    "\n",
    "import numpy as np # linear algebra\n",
    "import pandas as pd # data processing, CSV file I/O (e.g. pd.read_csv)\n",
    "import matplotlib.pyplot as plt\n",
    "# Input data files are available in the read-only \"../input/\" directory\n",
    "# For example, running this (by clicking run or pressing Shift+Enter) will list all files under the input directory\n",
    "\n",
    "import os\n",
    "for dirname, _, filenames in os.walk('/kaggle/input'):\n",
    "    for filename in filenames:\n",
    "        print(os.path.join(dirname, filename))\n",
    "\n",
    "# You can write up to 20GB to the current directory (/kaggle/working/) that gets preserved as output when you create a version using \"Save & Run All\" \n",
    "# You can also write temporary files to /kaggle/temp/, but they won't be saved outside of the current session"
   ]
  },
  {
   "cell_type": "code",
   "execution_count": 2,
   "id": "7e7890ae",
   "metadata": {
    "execution": {
     "iopub.execute_input": "2024-04-06T02:16:17.639180Z",
     "iopub.status.busy": "2024-04-06T02:16:17.638757Z",
     "iopub.status.idle": "2024-04-06T02:16:17.714568Z",
     "shell.execute_reply": "2024-04-06T02:16:17.713764Z"
    },
    "papermill": {
     "duration": 0.084948,
     "end_time": "2024-04-06T02:16:17.716739",
     "exception": false,
     "start_time": "2024-04-06T02:16:17.631791",
     "status": "completed"
    },
    "tags": []
   },
   "outputs": [
    {
     "data": {
      "text/html": [
       "<div>\n",
       "<style scoped>\n",
       "    .dataframe tbody tr th:only-of-type {\n",
       "        vertical-align: middle;\n",
       "    }\n",
       "\n",
       "    .dataframe tbody tr th {\n",
       "        vertical-align: top;\n",
       "    }\n",
       "\n",
       "    .dataframe thead th {\n",
       "        text-align: right;\n",
       "    }\n",
       "</style>\n",
       "<table border=\"1\" class=\"dataframe\">\n",
       "  <thead>\n",
       "    <tr style=\"text-align: right;\">\n",
       "      <th></th>\n",
       "      <th>PassengerId</th>\n",
       "      <th>HomePlanet</th>\n",
       "      <th>CryoSleep</th>\n",
       "      <th>Cabin</th>\n",
       "      <th>Destination</th>\n",
       "      <th>Age</th>\n",
       "      <th>VIP</th>\n",
       "      <th>RoomService</th>\n",
       "      <th>FoodCourt</th>\n",
       "      <th>ShoppingMall</th>\n",
       "      <th>Spa</th>\n",
       "      <th>VRDeck</th>\n",
       "      <th>Name</th>\n",
       "      <th>Transported</th>\n",
       "    </tr>\n",
       "  </thead>\n",
       "  <tbody>\n",
       "    <tr>\n",
       "      <th>0</th>\n",
       "      <td>0001_01</td>\n",
       "      <td>Europa</td>\n",
       "      <td>False</td>\n",
       "      <td>B/0/P</td>\n",
       "      <td>TRAPPIST-1e</td>\n",
       "      <td>39.0</td>\n",
       "      <td>False</td>\n",
       "      <td>0.0</td>\n",
       "      <td>0.0</td>\n",
       "      <td>0.0</td>\n",
       "      <td>0.0</td>\n",
       "      <td>0.0</td>\n",
       "      <td>Maham Ofracculy</td>\n",
       "      <td>False</td>\n",
       "    </tr>\n",
       "    <tr>\n",
       "      <th>1</th>\n",
       "      <td>0002_01</td>\n",
       "      <td>Earth</td>\n",
       "      <td>False</td>\n",
       "      <td>F/0/S</td>\n",
       "      <td>TRAPPIST-1e</td>\n",
       "      <td>24.0</td>\n",
       "      <td>False</td>\n",
       "      <td>109.0</td>\n",
       "      <td>9.0</td>\n",
       "      <td>25.0</td>\n",
       "      <td>549.0</td>\n",
       "      <td>44.0</td>\n",
       "      <td>Juanna Vines</td>\n",
       "      <td>True</td>\n",
       "    </tr>\n",
       "    <tr>\n",
       "      <th>2</th>\n",
       "      <td>0003_01</td>\n",
       "      <td>Europa</td>\n",
       "      <td>False</td>\n",
       "      <td>A/0/S</td>\n",
       "      <td>TRAPPIST-1e</td>\n",
       "      <td>58.0</td>\n",
       "      <td>True</td>\n",
       "      <td>43.0</td>\n",
       "      <td>3576.0</td>\n",
       "      <td>0.0</td>\n",
       "      <td>6715.0</td>\n",
       "      <td>49.0</td>\n",
       "      <td>Altark Susent</td>\n",
       "      <td>False</td>\n",
       "    </tr>\n",
       "    <tr>\n",
       "      <th>3</th>\n",
       "      <td>0003_02</td>\n",
       "      <td>Europa</td>\n",
       "      <td>False</td>\n",
       "      <td>A/0/S</td>\n",
       "      <td>TRAPPIST-1e</td>\n",
       "      <td>33.0</td>\n",
       "      <td>False</td>\n",
       "      <td>0.0</td>\n",
       "      <td>1283.0</td>\n",
       "      <td>371.0</td>\n",
       "      <td>3329.0</td>\n",
       "      <td>193.0</td>\n",
       "      <td>Solam Susent</td>\n",
       "      <td>False</td>\n",
       "    </tr>\n",
       "    <tr>\n",
       "      <th>4</th>\n",
       "      <td>0004_01</td>\n",
       "      <td>Earth</td>\n",
       "      <td>False</td>\n",
       "      <td>F/1/S</td>\n",
       "      <td>TRAPPIST-1e</td>\n",
       "      <td>16.0</td>\n",
       "      <td>False</td>\n",
       "      <td>303.0</td>\n",
       "      <td>70.0</td>\n",
       "      <td>151.0</td>\n",
       "      <td>565.0</td>\n",
       "      <td>2.0</td>\n",
       "      <td>Willy Santantines</td>\n",
       "      <td>True</td>\n",
       "    </tr>\n",
       "  </tbody>\n",
       "</table>\n",
       "</div>"
      ],
      "text/plain": [
       "  PassengerId HomePlanet CryoSleep  Cabin  Destination   Age    VIP  \\\n",
       "0     0001_01     Europa     False  B/0/P  TRAPPIST-1e  39.0  False   \n",
       "1     0002_01      Earth     False  F/0/S  TRAPPIST-1e  24.0  False   \n",
       "2     0003_01     Europa     False  A/0/S  TRAPPIST-1e  58.0   True   \n",
       "3     0003_02     Europa     False  A/0/S  TRAPPIST-1e  33.0  False   \n",
       "4     0004_01      Earth     False  F/1/S  TRAPPIST-1e  16.0  False   \n",
       "\n",
       "   RoomService  FoodCourt  ShoppingMall     Spa  VRDeck               Name  \\\n",
       "0          0.0        0.0           0.0     0.0     0.0    Maham Ofracculy   \n",
       "1        109.0        9.0          25.0   549.0    44.0       Juanna Vines   \n",
       "2         43.0     3576.0           0.0  6715.0    49.0      Altark Susent   \n",
       "3          0.0     1283.0         371.0  3329.0   193.0       Solam Susent   \n",
       "4        303.0       70.0         151.0   565.0     2.0  Willy Santantines   \n",
       "\n",
       "   Transported  \n",
       "0        False  \n",
       "1         True  \n",
       "2        False  \n",
       "3        False  \n",
       "4         True  "
      ]
     },
     "execution_count": 2,
     "metadata": {},
     "output_type": "execute_result"
    }
   ],
   "source": [
    "train_data = pd.read_csv('/kaggle/input/spaceship-titanic/train.csv')\n",
    "train_data.head()"
   ]
  },
  {
   "cell_type": "code",
   "execution_count": 3,
   "id": "2d81c315",
   "metadata": {
    "execution": {
     "iopub.execute_input": "2024-04-06T02:16:17.733100Z",
     "iopub.status.busy": "2024-04-06T02:16:17.732633Z",
     "iopub.status.idle": "2024-04-06T02:16:17.772427Z",
     "shell.execute_reply": "2024-04-06T02:16:17.771443Z"
    },
    "papermill": {
     "duration": 0.049902,
     "end_time": "2024-04-06T02:16:17.774569",
     "exception": false,
     "start_time": "2024-04-06T02:16:17.724667",
     "status": "completed"
    },
    "tags": []
   },
   "outputs": [
    {
     "data": {
      "text/html": [
       "<div>\n",
       "<style scoped>\n",
       "    .dataframe tbody tr th:only-of-type {\n",
       "        vertical-align: middle;\n",
       "    }\n",
       "\n",
       "    .dataframe tbody tr th {\n",
       "        vertical-align: top;\n",
       "    }\n",
       "\n",
       "    .dataframe thead th {\n",
       "        text-align: right;\n",
       "    }\n",
       "</style>\n",
       "<table border=\"1\" class=\"dataframe\">\n",
       "  <thead>\n",
       "    <tr style=\"text-align: right;\">\n",
       "      <th></th>\n",
       "      <th>PassengerId</th>\n",
       "      <th>HomePlanet</th>\n",
       "      <th>CryoSleep</th>\n",
       "      <th>Cabin</th>\n",
       "      <th>Destination</th>\n",
       "      <th>Age</th>\n",
       "      <th>VIP</th>\n",
       "      <th>RoomService</th>\n",
       "      <th>FoodCourt</th>\n",
       "      <th>ShoppingMall</th>\n",
       "      <th>Spa</th>\n",
       "      <th>VRDeck</th>\n",
       "      <th>Name</th>\n",
       "    </tr>\n",
       "  </thead>\n",
       "  <tbody>\n",
       "    <tr>\n",
       "      <th>0</th>\n",
       "      <td>0013_01</td>\n",
       "      <td>Earth</td>\n",
       "      <td>True</td>\n",
       "      <td>G/3/S</td>\n",
       "      <td>TRAPPIST-1e</td>\n",
       "      <td>27.0</td>\n",
       "      <td>False</td>\n",
       "      <td>0.0</td>\n",
       "      <td>0.0</td>\n",
       "      <td>0.0</td>\n",
       "      <td>0.0</td>\n",
       "      <td>0.0</td>\n",
       "      <td>Nelly Carsoning</td>\n",
       "    </tr>\n",
       "    <tr>\n",
       "      <th>1</th>\n",
       "      <td>0018_01</td>\n",
       "      <td>Earth</td>\n",
       "      <td>False</td>\n",
       "      <td>F/4/S</td>\n",
       "      <td>TRAPPIST-1e</td>\n",
       "      <td>19.0</td>\n",
       "      <td>False</td>\n",
       "      <td>0.0</td>\n",
       "      <td>9.0</td>\n",
       "      <td>0.0</td>\n",
       "      <td>2823.0</td>\n",
       "      <td>0.0</td>\n",
       "      <td>Lerome Peckers</td>\n",
       "    </tr>\n",
       "    <tr>\n",
       "      <th>2</th>\n",
       "      <td>0019_01</td>\n",
       "      <td>Europa</td>\n",
       "      <td>True</td>\n",
       "      <td>C/0/S</td>\n",
       "      <td>55 Cancri e</td>\n",
       "      <td>31.0</td>\n",
       "      <td>False</td>\n",
       "      <td>0.0</td>\n",
       "      <td>0.0</td>\n",
       "      <td>0.0</td>\n",
       "      <td>0.0</td>\n",
       "      <td>0.0</td>\n",
       "      <td>Sabih Unhearfus</td>\n",
       "    </tr>\n",
       "    <tr>\n",
       "      <th>3</th>\n",
       "      <td>0021_01</td>\n",
       "      <td>Europa</td>\n",
       "      <td>False</td>\n",
       "      <td>C/1/S</td>\n",
       "      <td>TRAPPIST-1e</td>\n",
       "      <td>38.0</td>\n",
       "      <td>False</td>\n",
       "      <td>0.0</td>\n",
       "      <td>6652.0</td>\n",
       "      <td>0.0</td>\n",
       "      <td>181.0</td>\n",
       "      <td>585.0</td>\n",
       "      <td>Meratz Caltilter</td>\n",
       "    </tr>\n",
       "    <tr>\n",
       "      <th>4</th>\n",
       "      <td>0023_01</td>\n",
       "      <td>Earth</td>\n",
       "      <td>False</td>\n",
       "      <td>F/5/S</td>\n",
       "      <td>TRAPPIST-1e</td>\n",
       "      <td>20.0</td>\n",
       "      <td>False</td>\n",
       "      <td>10.0</td>\n",
       "      <td>0.0</td>\n",
       "      <td>635.0</td>\n",
       "      <td>0.0</td>\n",
       "      <td>0.0</td>\n",
       "      <td>Brence Harperez</td>\n",
       "    </tr>\n",
       "  </tbody>\n",
       "</table>\n",
       "</div>"
      ],
      "text/plain": [
       "  PassengerId HomePlanet CryoSleep  Cabin  Destination   Age    VIP  \\\n",
       "0     0013_01      Earth      True  G/3/S  TRAPPIST-1e  27.0  False   \n",
       "1     0018_01      Earth     False  F/4/S  TRAPPIST-1e  19.0  False   \n",
       "2     0019_01     Europa      True  C/0/S  55 Cancri e  31.0  False   \n",
       "3     0021_01     Europa     False  C/1/S  TRAPPIST-1e  38.0  False   \n",
       "4     0023_01      Earth     False  F/5/S  TRAPPIST-1e  20.0  False   \n",
       "\n",
       "   RoomService  FoodCourt  ShoppingMall     Spa  VRDeck              Name  \n",
       "0          0.0        0.0           0.0     0.0     0.0   Nelly Carsoning  \n",
       "1          0.0        9.0           0.0  2823.0     0.0    Lerome Peckers  \n",
       "2          0.0        0.0           0.0     0.0     0.0   Sabih Unhearfus  \n",
       "3          0.0     6652.0           0.0   181.0   585.0  Meratz Caltilter  \n",
       "4         10.0        0.0         635.0     0.0     0.0   Brence Harperez  "
      ]
     },
     "execution_count": 3,
     "metadata": {},
     "output_type": "execute_result"
    }
   ],
   "source": [
    "test_data = pd.read_csv(\"/kaggle/input/spaceship-titanic/test.csv\")\n",
    "test_data.head()"
   ]
  },
  {
   "cell_type": "code",
   "execution_count": 4,
   "id": "6726fdbd",
   "metadata": {
    "execution": {
     "iopub.execute_input": "2024-04-06T02:16:17.788484Z",
     "iopub.status.busy": "2024-04-06T02:16:17.788157Z",
     "iopub.status.idle": "2024-04-06T02:16:17.796306Z",
     "shell.execute_reply": "2024-04-06T02:16:17.795544Z"
    },
    "papermill": {
     "duration": 0.01725,
     "end_time": "2024-04-06T02:16:17.798230",
     "exception": false,
     "start_time": "2024-04-06T02:16:17.780980",
     "status": "completed"
    },
    "tags": []
   },
   "outputs": [
    {
     "name": "stdout",
     "output_type": "stream",
     "text": [
      "2.16%\n"
     ]
    }
   ],
   "source": [
    "null_count = train_data['VRDeck'].isnull().sum() # Summing up all missing values\n",
    "total_count = train_data.shape[0] # The amount of rows in our data\n",
    "print(f'{null_count/total_count * 100:.2f}%')"
   ]
  },
  {
   "cell_type": "code",
   "execution_count": 5,
   "id": "31626980",
   "metadata": {
    "execution": {
     "iopub.execute_input": "2024-04-06T02:16:17.812465Z",
     "iopub.status.busy": "2024-04-06T02:16:17.811803Z",
     "iopub.status.idle": "2024-04-06T02:16:18.090921Z",
     "shell.execute_reply": "2024-04-06T02:16:18.089904Z"
    },
    "papermill": {
     "duration": 0.288534,
     "end_time": "2024-04-06T02:16:18.093126",
     "exception": false,
     "start_time": "2024-04-06T02:16:17.804592",
     "status": "completed"
    },
    "tags": []
   },
   "outputs": [
    {
     "data": {
      "image/png": "[encoded data removed]",
      "text/plain": [
       "<Figure size 640x480 with 1 Axes>"
      ]
     },
     "metadata": {},
     "output_type": "display_data"
    }
   ],
   "source": [
    "train_data.Age.hist(bins=20)\n",
    "plt.show();"
   ]
  },
  {
   "cell_type": "code",
   "execution_count": 6,
   "id": "5c025382",
   "metadata": {
    "execution": {
     "iopub.execute_input": "2024-04-06T02:16:18.108070Z",
     "iopub.status.busy": "2024-04-06T02:16:18.107263Z",
     "iopub.status.idle": "2024-04-06T02:16:18.343525Z",
     "shell.execute_reply": "2024-04-06T02:16:18.342743Z"
    },
    "papermill": {
     "duration": 0.245823,
     "end_time": "2024-04-06T02:16:18.345465",
     "exception": false,
     "start_time": "2024-04-06T02:16:18.099642",
     "status": "completed"
    },
    "tags": []
   },
   "outputs": [
    {
     "data": {
      "image/png": "[encoded data removed]",
      "text/plain": [
       "<Figure size 640x480 with 1 Axes>"
      ]
     },
     "metadata": {},
     "output_type": "display_data"
    }
   ],
   "source": [
    "train_data['VIP'].value_counts().plot(kind='barh');\n",
    "plt.xlabel(\"Count\");\n",
    "plt.title(\"Passengers per Class\");"
   ]
  },
  {
   "cell_type": "code",
   "execution_count": 7,
   "id": "55e9e13b",
   "metadata": {
    "execution": {
     "iopub.execute_input": "2024-04-06T02:16:18.361169Z",
     "iopub.status.busy": "2024-04-06T02:16:18.360528Z",
     "iopub.status.idle": "2024-04-06T02:16:18.374764Z",
     "shell.execute_reply": "2024-04-06T02:16:18.373765Z"
    },
    "papermill": {
     "duration": 0.024595,
     "end_time": "2024-04-06T02:16:18.377074",
     "exception": false,
     "start_time": "2024-04-06T02:16:18.352479",
     "status": "completed"
    },
    "tags": []
   },
   "outputs": [
    {
     "name": "stdout",
     "output_type": "stream",
     "text": [
      "Percentage of passengers transported under 40: 65.71%\n",
      "Percentage of passengers transported 40 and older: 48.12%\n"
     ]
    }
   ],
   "source": [
    "under_15 = train_data[train_data['Age'] < 15]\n",
    "over_15 = train_data[train_data['Age'] >= 15]\n",
    "percentage_under_15 = (under_15['Transported'].sum() / len(under_15)) * 100\n",
    "percentage_over_15 = (over_15['Transported'].sum() / len(over_15)) * 100\n",
    "\n",
    "print(f\"Percentage of passengers transported under 40: {percentage_under_15:.2f}%\")\n",
    "print(f\"Percentage of passengers transported 40 and older: {percentage_over_15:.2f}%\")"
   ]
  },
  {
   "cell_type": "code",
   "execution_count": 8,
   "id": "a035d86f",
   "metadata": {
    "execution": {
     "iopub.execute_input": "2024-04-06T02:16:18.392755Z",
     "iopub.status.busy": "2024-04-06T02:16:18.392199Z",
     "iopub.status.idle": "2024-04-06T02:16:18.588808Z",
     "shell.execute_reply": "2024-04-06T02:16:18.587809Z"
    },
    "papermill": {
     "duration": 0.206863,
     "end_time": "2024-04-06T02:16:18.591049",
     "exception": false,
     "start_time": "2024-04-06T02:16:18.384186",
     "status": "completed"
    },
    "tags": []
   },
   "outputs": [
    {
     "data": {
      "image/png": "[encoded data removed]",
      "text/plain": [
       "<Figure size 640x480 with 1 Axes>"
      ]
     },
     "metadata": {},
     "output_type": "display_data"
    }
   ],
   "source": [
    "train_data.groupby('CryoSleep').Transported.mean().plot(kind='barh').set_xlabel('% transported');\n",
    "plt.title('Survival Rate by CryoSleep');"
   ]
  },
  {
   "cell_type": "code",
   "execution_count": 9,
   "id": "c8508b2f",
   "metadata": {
    "execution": {
     "iopub.execute_input": "2024-04-06T02:16:18.607565Z",
     "iopub.status.busy": "2024-04-06T02:16:18.606599Z",
     "iopub.status.idle": "2024-04-06T02:16:18.758512Z",
     "shell.execute_reply": "2024-04-06T02:16:18.757431Z"
    },
    "papermill": {
     "duration": 0.162512,
     "end_time": "2024-04-06T02:16:18.760818",
     "exception": false,
     "start_time": "2024-04-06T02:16:18.598306",
     "status": "completed"
    },
    "tags": []
   },
   "outputs": [
    {
     "data": {
      "image/png": "[encoded data removed]",
      "text/plain": [
       "<Figure size 640x480 with 1 Axes>"
      ]
     },
     "metadata": {},
     "output_type": "display_data"
    }
   ],
   "source": [
    "train_data.groupby('VIP').Transported.mean().plot(kind='barh').set_xlabel('% transported');"
   ]
  },
  {
   "cell_type": "code",
   "execution_count": 10,
   "id": "5475db97",
   "metadata": {
    "execution": {
     "iopub.execute_input": "2024-04-06T02:16:18.777529Z",
     "iopub.status.busy": "2024-04-06T02:16:18.776897Z",
     "iopub.status.idle": "2024-04-06T02:16:18.784632Z",
     "shell.execute_reply": "2024-04-06T02:16:18.783893Z"
    },
    "papermill": {
     "duration": 0.018091,
     "end_time": "2024-04-06T02:16:18.786442",
     "exception": false,
     "start_time": "2024-04-06T02:16:18.768351",
     "status": "completed"
    },
    "tags": []
   },
   "outputs": [
    {
     "data": {
      "text/plain": [
       "HomePlanet\n",
       "Earth     4602\n",
       "Europa    2131\n",
       "Mars      1759\n",
       "Name: count, dtype: int64"
      ]
     },
     "execution_count": 10,
     "metadata": {},
     "output_type": "execute_result"
    }
   ],
   "source": [
    "train_data['HomePlanet'].value_counts()"
   ]
  },
  {
   "cell_type": "code",
   "execution_count": 11,
   "id": "e7f19e1c",
   "metadata": {
    "execution": {
     "iopub.execute_input": "2024-04-06T02:16:18.804044Z",
     "iopub.status.busy": "2024-04-06T02:16:18.803284Z",
     "iopub.status.idle": "2024-04-06T02:16:19.012551Z",
     "shell.execute_reply": "2024-04-06T02:16:19.011563Z"
    },
    "papermill": {
     "duration": 0.220798,
     "end_time": "2024-04-06T02:16:19.014718",
     "exception": false,
     "start_time": "2024-04-06T02:16:18.793920",
     "status": "completed"
    },
    "tags": []
   },
   "outputs": [
    {
     "data": {
      "image/png": "[encoded data removed]",
      "text/plain": [
       "<Figure size 640x480 with 1 Axes>"
      ]
     },
     "metadata": {},
     "output_type": "display_data"
    }
   ],
   "source": [
    "train_data.groupby('HomePlanet').Transported.mean().plot(kind='barh').set_xlabel('% transported');"
   ]
  },
  {
   "cell_type": "code",
   "execution_count": 12,
   "id": "c95a7be0",
   "metadata": {
    "execution": {
     "iopub.execute_input": "2024-04-06T02:16:19.031701Z",
     "iopub.status.busy": "2024-04-06T02:16:19.031377Z",
     "iopub.status.idle": "2024-04-06T02:16:19.037760Z",
     "shell.execute_reply": "2024-04-06T02:16:19.036993Z"
    },
    "papermill": {
     "duration": 0.017158,
     "end_time": "2024-04-06T02:16:19.039751",
     "exception": false,
     "start_time": "2024-04-06T02:16:19.022593",
     "status": "completed"
    },
    "tags": []
   },
   "outputs": [],
   "source": [
    "train_data['Totalspending'] = train_data['RoomService'] + train_data['FoodCourt'] + train_data['ShoppingMall'] + train_data['Spa'] + train_data['VRDeck']"
   ]
  },
  {
   "cell_type": "code",
   "execution_count": null,
   "id": "912a3cde",
   "metadata": {
    "papermill": {
     "duration": 0.007629,
     "end_time": "2024-04-06T02:16:19.055103",
     "exception": false,
     "start_time": "2024-04-06T02:16:19.047474",
     "status": "completed"
    },
    "tags": []
   },
   "outputs": [],
   "source": []
  },
  {
   "cell_type": "code",
   "execution_count": 13,
   "id": "3019f6c3",
   "metadata": {
    "execution": {
     "iopub.execute_input": "2024-04-06T02:16:19.073057Z",
     "iopub.status.busy": "2024-04-06T02:16:19.071559Z",
     "iopub.status.idle": "2024-04-06T02:16:19.078199Z",
     "shell.execute_reply": "2024-04-06T02:16:19.077330Z"
    },
    "papermill": {
     "duration": 0.017457,
     "end_time": "2024-04-06T02:16:19.080244",
     "exception": false,
     "start_time": "2024-04-06T02:16:19.062787",
     "status": "completed"
    },
    "tags": []
   },
   "outputs": [
    {
     "data": {
      "text/plain": [
       "Index(['PassengerId', 'HomePlanet', 'CryoSleep', 'Cabin', 'Destination', 'Age',\n",
       "       'VIP', 'RoomService', 'FoodCourt', 'ShoppingMall', 'Spa', 'VRDeck',\n",
       "       'Name', 'Transported', 'Totalspending'],\n",
       "      dtype='object')"
      ]
     },
     "execution_count": 13,
     "metadata": {},
     "output_type": "execute_result"
    }
   ],
   "source": [
    "train_data.columns"
   ]
  },
  {
   "cell_type": "code",
   "execution_count": 14,
   "id": "0d34a69b",
   "metadata": {
    "execution": {
     "iopub.execute_input": "2024-04-06T02:16:19.098025Z",
     "iopub.status.busy": "2024-04-06T02:16:19.097694Z",
     "iopub.status.idle": "2024-04-06T02:16:19.104717Z",
     "shell.execute_reply": "2024-04-06T02:16:19.104018Z"
    },
    "papermill": {
     "duration": 0.018231,
     "end_time": "2024-04-06T02:16:19.106496",
     "exception": false,
     "start_time": "2024-04-06T02:16:19.088265",
     "status": "completed"
    },
    "tags": []
   },
   "outputs": [
    {
     "data": {
      "text/plain": [
       "Destination\n",
       "TRAPPIST-1e      5915\n",
       "55 Cancri e      1800\n",
       "PSO J318.5-22     796\n",
       "Name: count, dtype: int64"
      ]
     },
     "execution_count": 14,
     "metadata": {},
     "output_type": "execute_result"
    }
   ],
   "source": [
    "train_data['Destination'].value_counts()"
   ]
  },
  {
   "cell_type": "code",
   "execution_count": 15,
   "id": "54ba5b19",
   "metadata": {
    "execution": {
     "iopub.execute_input": "2024-04-06T02:16:19.123647Z",
     "iopub.status.busy": "2024-04-06T02:16:19.123338Z",
     "iopub.status.idle": "2024-04-06T02:16:19.338099Z",
     "shell.execute_reply": "2024-04-06T02:16:19.337154Z"
    },
    "papermill": {
     "duration": 0.226323,
     "end_time": "2024-04-06T02:16:19.340706",
     "exception": false,
     "start_time": "2024-04-06T02:16:19.114383",
     "status": "completed"
    },
    "tags": []
   },
   "outputs": [
    {
     "data": {
      "image/png": "[encoded data removed]",
      "text/plain": [
       "<Figure size 640x480 with 1 Axes>"
      ]
     },
     "metadata": {},
     "output_type": "display_data"
    }
   ],
   "source": [
    "train_data.groupby('Destination').Transported.mean().plot(kind='barh').set_xlabel('% transported');"
   ]
  },
  {
   "cell_type": "code",
   "execution_count": 16,
   "id": "bd685ccc",
   "metadata": {
    "execution": {
     "iopub.execute_input": "2024-04-06T02:16:19.359356Z",
     "iopub.status.busy": "2024-04-06T02:16:19.359005Z",
     "iopub.status.idle": "2024-04-06T02:16:19.364293Z",
     "shell.execute_reply": "2024-04-06T02:16:19.363539Z"
    },
    "papermill": {
     "duration": 0.017036,
     "end_time": "2024-04-06T02:16:19.366194",
     "exception": false,
     "start_time": "2024-04-06T02:16:19.349158",
     "status": "completed"
    },
    "tags": []
   },
   "outputs": [],
   "source": [
    "train_data['Transported'] = train_data['Transported'].astype(int)"
   ]
  },
  {
   "cell_type": "code",
   "execution_count": 17,
   "id": "aac8b4e1",
   "metadata": {
    "execution": {
     "iopub.execute_input": "2024-04-06T02:16:19.384787Z",
     "iopub.status.busy": "2024-04-06T02:16:19.384158Z",
     "iopub.status.idle": "2024-04-06T02:16:20.574530Z",
     "shell.execute_reply": "2024-04-06T02:16:20.573660Z"
    },
    "papermill": {
     "duration": 1.20251,
     "end_time": "2024-04-06T02:16:20.576928",
     "exception": false,
     "start_time": "2024-04-06T02:16:19.374418",
     "status": "completed"
    },
    "tags": []
   },
   "outputs": [],
   "source": [
    "# Import the train_test_split function from scikit-learn\n",
    "from sklearn.model_selection import train_test_split\n",
    "\n",
    "# Define the target variable (what we want to predict)\n",
    "# We are predicting the \"Survived\" column from the training data\n",
    "y = train_data[\"Transported\"]\n",
    "\n",
    "# Define the feature columns that will be used for prediction\n",
    "features = [\"HomePlanet\", \"CryoSleep\", \"Destination\", \"Age\"]\n",
    "\n",
    "# Use one-hot encoding to convert categorical columns into numerical form\n",
    "# This is important because most machine learning algorithms require numerical input\n",
    "X = pd.get_dummies(train_data[features])  # Training features\n",
    "X_test = pd.get_dummies(test_data[features])  # Test features\n",
    "\n",
    "# Split the dataset into training and validation sets\n",
    "# The training set will be used to train the model\n",
    "# The validation set will be used to evaluate the model's performance\n",
    "# Setting random_state to a constant ensures reproducibility of the split\n",
    "train_X, val_X, train_y, val_y = train_test_split(X, y, random_state=0)"
   ]
  },
  {
   "cell_type": "code",
   "execution_count": 18,
   "id": "e43355a2",
   "metadata": {
    "execution": {
     "iopub.execute_input": "2024-04-06T02:16:20.595549Z",
     "iopub.status.busy": "2024-04-06T02:16:20.595195Z",
     "iopub.status.idle": "2024-04-06T02:16:20.800411Z",
     "shell.execute_reply": "2024-04-06T02:16:20.799522Z"
    },
    "papermill": {
     "duration": 0.217187,
     "end_time": "2024-04-06T02:16:20.802776",
     "exception": false,
     "start_time": "2024-04-06T02:16:20.585589",
     "status": "completed"
    },
    "tags": []
   },
   "outputs": [],
   "source": [
    "# Import the RandomForestClassifier from scikit-learn\n",
    "from sklearn.ensemble import RandomForestClassifier\n",
    "\n",
    "# Import the mean_absolute_error function from scikit-learn\n",
    "from sklearn.metrics import mean_absolute_error\n",
    "\n",
    "# Define a function to calculate Mean Absolute Error (MAE) for a Random Forest model\n",
    "def get_mae(n_estimators, max_depth, random_state, train_X, val_X, train_y, val_y):\n",
    "    \"\"\"\n",
    "    Calculate Mean Absolute Error (MAE) for a Random Forest model.\n",
    "    \n",
    "    Parameters:\n",
    "    - n_estimators: Number of trees in the Random Forest\n",
    "    - max_depth: Maximum depth of the trees in the Random Forest\n",
    "    - random_state: Seed used by the random number generator for reproducibility\n",
    "    - train_X: Training features\n",
    "    - val_X: Validation features\n",
    "    - train_y: Training target variable\n",
    "    - val_y: Validation target variable\n",
    "    \n",
    "    Returns:\n",
    "    - mae: Mean Absolute Error of the model predictions on the validation set\n",
    "    \"\"\"\n",
    "    \n",
    "    # Initialize the Random Forest model with specified parameters\n",
    "    model = RandomForestClassifier(n_estimators=n_estimators, max_depth=max_depth, random_state=random_state)\n",
    "    \n",
    "    # Train the model on the training data\n",
    "    model.fit(train_X, train_y)\n",
    "    \n",
    "    # Make predictions on the validation data\n",
    "    preds_val = model.predict(val_X)\n",
    "    \n",
    "    # Calculate Mean Absolute Error (MAE) between the actual and predicted values\n",
    "    mae = mean_absolute_error(val_y, preds_val)\n",
    "    \n",
    "    # Return the calculated MAE\n",
    "    return mae"
   ]
  },
  {
   "cell_type": "code",
   "execution_count": 19,
   "id": "102ee4f1",
   "metadata": {
    "execution": {
     "iopub.execute_input": "2024-04-06T02:16:20.820920Z",
     "iopub.status.busy": "2024-04-06T02:16:20.820552Z",
     "iopub.status.idle": "2024-04-06T02:16:20.841127Z",
     "shell.execute_reply": "2024-04-06T02:16:20.840318Z"
    },
    "papermill": {
     "duration": 0.032081,
     "end_time": "2024-04-06T02:16:20.843312",
     "exception": false,
     "start_time": "2024-04-06T02:16:20.811231",
     "status": "completed"
    },
    "tags": []
   },
   "outputs": [],
   "source": [
    "# Import the SimpleImputer from scikit-learn\n",
    "from sklearn.impute import SimpleImputer\n",
    "\n",
    "# Initialize the SimpleImputer object\n",
    "# This object will be used to fill missing values in the dataset\n",
    "my_imputer = SimpleImputer()\n",
    "\n",
    "# Fill missing values in the training features and create a new DataFrame\n",
    "final_X_train = pd.DataFrame(my_imputer.fit_transform(train_X))\n",
    "\n",
    "# Fill missing values in the validation features using the imputer fitted on the training data\n",
    "# and create a new DataFrame\n",
    "final_X_valid = pd.DataFrame(my_imputer.transform(val_X))"
   ]
  },
  {
   "cell_type": "code",
   "execution_count": 20,
   "id": "1becff98",
   "metadata": {
    "execution": {
     "iopub.execute_input": "2024-04-06T02:16:20.861435Z",
     "iopub.status.busy": "2024-04-06T02:16:20.861110Z",
     "iopub.status.idle": "2024-04-06T02:16:37.840220Z",
     "shell.execute_reply": "2024-04-06T02:16:37.839157Z"
    },
    "papermill": {
     "duration": 16.990651,
     "end_time": "2024-04-06T02:16:37.842342",
     "exception": false,
     "start_time": "2024-04-06T02:16:20.851691",
     "status": "completed"
    },
    "tags": []
   },
   "outputs": [
    {
     "name": "stdout",
     "output_type": "stream",
     "text": [
      "No. Estimators: 150 \n",
      " Max Depth: 7 \n",
      " Random State: 4 Mean Absolute Error: 0.26356945722171116\n"
     ]
    }
   ],
   "source": [
    "# Define lists of hyperparameters to be tested\n",
    "n_estimators_list = [100, 150, 200]  # Number of trees in the Random Forest\n",
    "max_depth_list = [6, 7, 8]  # Maximum depth of the trees in the Random Forest\n",
    "random_state_list = [3, 4, 5]  # Seed used by the random number generator\n",
    "\n",
    "# Initialize an empty list to store Mean Absolute Error (MAE) for each combination of hyperparameters\n",
    "mae_list = []\n",
    "\n",
    "# Loop through each combination of hyperparameters\n",
    "for n_estimators in n_estimators_list:\n",
    "    for max_depth in max_depth_list:\n",
    "        for random_state in random_state_list:\n",
    "            # Calculate MAE using the get_mae function defined earlier\n",
    "            mae = get_mae(n_estimators, max_depth, random_state, final_X_train, final_X_valid, train_y, val_y)\n",
    "            \n",
    "            # Uncomment the following line to print MAE for each combination of hyperparameters\n",
    "            # print(f'No. Estimators: {n_estimators} \\t Max Depth: {max_depth} \\t Mean Absolute Error: {mae}')\n",
    "            \n",
    "            # Append the hyperparameters and corresponding MAE to the mae_list\n",
    "            mae_list.append([n_estimators, max_depth, random_state, mae])\n",
    "\n",
    "# Find the combination of hyperparameters that resulted in the lowest MAE\n",
    "best_result = min(mae_list, key=lambda x: x[3])\n",
    "\n",
    "# Print the best hyperparameters and the corresponding MAE\n",
    "print(f\"No. Estimators: {best_result[0]} \\n Max Depth: {best_result[1]} \\n Random State: {best_result[2]} Mean Absolute Error: {best_result[3]}\")"
   ]
  },
  {
   "cell_type": "code",
   "execution_count": 21,
   "id": "7d20ebdc",
   "metadata": {
    "execution": {
     "iopub.execute_input": "2024-04-06T02:16:37.860663Z",
     "iopub.status.busy": "2024-04-06T02:16:37.860336Z",
     "iopub.status.idle": "2024-04-06T02:16:38.516370Z",
     "shell.execute_reply": "2024-04-06T02:16:38.515170Z"
    },
    "papermill": {
     "duration": 0.667766,
     "end_time": "2024-04-06T02:16:38.518820",
     "exception": false,
     "start_time": "2024-04-06T02:16:37.851054",
     "status": "completed"
    },
    "tags": []
   },
   "outputs": [],
   "source": [
    "# Define the final Random Forest model using the best hyperparameters identified earlier\n",
    "model = RandomForestClassifier(n_estimators=best_result[0], max_depth=best_result[1], random_state=best_result[2])\n",
    "\n",
    "# Train the final Random Forest model using the training data\n",
    "model.fit(final_X_train, train_y)\n",
    "\n",
    "# Fill missing values in the test features and create a new DataFrame\n",
    "final_X_test = pd.DataFrame(my_imputer.fit_transform(X_test))\n",
    "\n",
    "# Make predictions on the test data using the trained model\n",
    "predictions = model.predict(final_X_test)"
   ]
  },
  {
   "cell_type": "code",
   "execution_count": 22,
   "id": "02360ec1",
   "metadata": {
    "execution": {
     "iopub.execute_input": "2024-04-06T02:16:38.538178Z",
     "iopub.status.busy": "2024-04-06T02:16:38.537800Z",
     "iopub.status.idle": "2024-04-06T02:16:38.550863Z",
     "shell.execute_reply": "2024-04-06T02:16:38.549680Z"
    },
    "papermill": {
     "duration": 0.02518,
     "end_time": "2024-04-06T02:16:38.553079",
     "exception": false,
     "start_time": "2024-04-06T02:16:38.527899",
     "status": "completed"
    },
    "tags": []
   },
   "outputs": [
    {
     "name": "stdout",
     "output_type": "stream",
     "text": [
      "Your submission was successfully saved!\n"
     ]
    }
   ],
   "source": [
    "output = pd.DataFrame({'PassengerId': test_data.PassengerId, 'Transported': predictions})\n",
    "output['Transported'] = output['Transported'].astype(bool)\n",
    "output\n",
    "output.to_csv('submission.csv', index=False)\n",
    "print(\"Your submission was successfully saved!\")"
   ]
  },
  {
   "cell_type": "code",
   "execution_count": null,
   "id": "c2611b71",
   "metadata": {
    "papermill": {
     "duration": 0.008218,
     "end_time": "2024-04-06T02:16:38.569958",
     "exception": false,
     "start_time": "2024-04-06T02:16:38.561740",
     "status": "completed"
    },
    "tags": []
   },
   "outputs": [],
   "source": []
  }
 ],
 "metadata": {
  "kaggle": {
   "accelerator": "none",
   "dataSources": [
    {
     "databundleVersionId": 3220602,
     "sourceId": 34377,
     "sourceType": "competition"
    }
   ],
   "dockerImageVersionId": 30673,
   "isGpuEnabled": false,
   "isInternetEnabled": true,
   "language": "python",
   "sourceType": "notebook"
  },
  "kernelspec": {
   "display_name": "Python 3",
   "language": "python",
   "name": "python3"
  },
  "language_info": {
   "codemirror_mode": {
    "name": "ipython",
    "version": 3
   },
   "file_extension": ".py",
   "mimetype": "text/x-python",
   "name": "python",
   "nbconvert_exporter": "python",
   "pygments_lexer": "ipython3",
   "version": "3.10.13"
  },
  "papermill": {
   "default_parameters": {},
   "duration": 26.94712,
   "end_time": "2024-04-06T02:16:41.310265",
   "environment_variables": {},
   "exception": null,
   "input_path": "__notebook__.ipynb",
   "output_path": "__notebook__.ipynb",
   "parameters": {},
   "start_time": "2024-04-06T02:16:14.363145",
   "version": "2.5.0"
  }
 },
 "nbformat": 4,
 "nbformat_minor": 5
}
